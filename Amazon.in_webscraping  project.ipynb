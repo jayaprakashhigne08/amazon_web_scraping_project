{
 "cells": [
  {
   "cell_type": "markdown",
   "id": "905e13a1-d5c6-4bc7-8ae2-1f0c53599ff3",
   "metadata": {},
   "source": [
    "### import liberies and opening amazon.in website"
   ]
  },
  {
   "cell_type": "code",
   "execution_count": 45,
   "id": "9e020095-c76a-4d5f-8873-c6358dd7e0ec",
   "metadata": {},
   "outputs": [],
   "source": [
    "from selenium import webdriver\n",
    "driver=webdriver.Chrome()\n",
    "from bs4 import BeautifulSoup\n",
    "\n",
    "driver.get('https://www.amazon.in/')\n",
    "from selenium.webdriver.chrome.options import Options\n",
    "\n"
   ]
  },
  {
   "cell_type": "markdown",
   "id": "55e75484-c771-4900-9455-ea3d0b855cad",
   "metadata": {},
   "source": [
    "### opening the laptops page in amazon website"
   ]
  },
  {
   "cell_type": "code",
   "execution_count": 46,
   "id": "5b1f36e8-5d8a-4777-a0f0-0c1a4d0bff51",
   "metadata": {},
   "outputs": [],
   "source": [
    "from bs4 import BeautifulSoup\n",
    "driver=webdriver.Chrome()\n",
    "driver.get('https://www.amazon.in/s?k=laptops&crid=2G1XNQUWHBQBC&sprefix=laptops%2Caps%2C213&ref=nb_sb_noss_2')\n"
   ]
  },
  {
   "cell_type": "code",
   "execution_count": 47,
   "id": "f2ed6c8d-4544-4214-b371-cb913d7aa3d4",
   "metadata": {},
   "outputs": [],
   "source": [
    "html_data=BeautifulSoup(driver.page_source, 'html.parser')"
   ]
  },
  {
   "cell_type": "code",
   "execution_count": 4,
   "id": "32a94492-3ad5-41da-b7a9-47e2822db5aa",
   "metadata": {},
   "outputs": [],
   "source": [
    "no_of_pages=int(html_data.find('span',{'class':'s-pagination-item s-pagination-disabled'}).text)"
   ]
  },
  {
   "cell_type": "code",
   "execution_count": 5,
   "id": "928cdf27-7768-4de4-a159-9eedc677a8a9",
   "metadata": {},
   "outputs": [
    {
     "data": {
      "text/plain": [
       "20"
      ]
     },
     "execution_count": 5,
     "metadata": {},
     "output_type": "execute_result"
    }
   ],
   "source": [
    "no_of_pages"
   ]
  },
  {
   "cell_type": "code",
   "execution_count": 56,
   "id": "bc624fba-258d-4a3a-83bf-462c02d00a81",
   "metadata": {},
   "outputs": [],
   "source": [
    "products=html_data.find_all('div',{'data-component-type':'s-search-result'})"
   ]
  },
  {
   "cell_type": "code",
   "execution_count": 55,
   "id": "e5179bd9-7ebf-4016-8ab0-f048489e9e4d",
   "metadata": {},
   "outputs": [
    {
     "name": "stdout",
     "output_type": "stream",
     "text": [
      "Total number of products found: 22\n"
     ]
    }
   ],
   "source": [
    "# Find all the product divs\n",
    "products = html_data.find_all('div', {'data-component-type': 's-search-result'})\n",
    "\n",
    "# Get the count of products\n",
    "product_count = len(products)\n",
    "\n",
    "# Print the count\n",
    "print(f\"Total number of products found: {product_count}\")\n"
   ]
  },
  {
   "cell_type": "code",
   "execution_count": 7,
   "id": "05aebd25-953e-45d8-a447-3e89da558baf",
   "metadata": {},
   "outputs": [],
   "source": [
    "import time"
   ]
  },
  {
   "cell_type": "code",
   "execution_count": 8,
   "id": "444dd807-3198-4128-b6c4-2e55ad11d73d",
   "metadata": {},
   "outputs": [],
   "source": [
    "from tqdm import tqdm"
   ]
  },
  {
   "cell_type": "code",
   "execution_count": 26,
   "id": "f79ee0f2-179d-474e-8943-ce95ec67339d",
   "metadata": {},
   "outputs": [
    {
     "name": "stderr",
     "output_type": "stream",
     "text": [
      "100%|██████████████████████████████████████████████████████████████████████████████████████████████████████████████████████████████████| 20/20 [02:05<00:00,  6.27s/it]\n"
     ]
    }
   ],
   "source": [
    "titles=[]\n",
    "images=[]\n",
    "ratings=[]\n",
    "prices=[]\n",
    "\n",
    "for i in tqdm(range(no_of_pages)):\n",
    "    url=\"https://www.amazon.in/s?k=laptops&page=2&xpid=RH1scd8ARo2pI&crid=2G1XNQUWHBQBC&qid=1737882795&sprefix=laptops%2Caps%2C213&ref=sr_pg_2&page='+str(i+1)\"\n",
    "    driver.get(url)\n",
    "    time.sleep(3)\n",
    "    html_data=BeautifulSoup(driver.page_source, 'html.parser')\n",
    "    for product in products:\n",
    "        #title=product.find('h2',{'class':'a-size-medium a-spacing-none a-color-base a-text-normal'})\n",
    "        #print(title)\n",
    "        title_tag = product.find('h2', {'class': 'a-size-medium a-spacing-none a-color-base a-text-normal'})\n",
    "        \n",
    "        # Extract the title from the <span> tag inside the <h2>\n",
    "        title = title_tag.find('span').text if title_tag else \"No Title\"\n",
    "        \n",
    "        titles.append(title)\n",
    "        image=product.find('img')['src']\n",
    "        images.append(image)\n",
    "        rating=product.find('span',{'class':\"a-icon-alt\"})\n",
    "        ratings.append(rating)\n",
    "        price=product.find('span',{'class':'a-price-whole'}).text\n",
    "        prices.append(price)\n",
    "       "
   ]
  },
  {
   "cell_type": "code",
   "execution_count": 27,
   "id": "bcc20fd3-4200-41ac-9804-131eb3737143",
   "metadata": {},
   "outputs": [
    {
     "data": {
      "text/plain": [
       "440"
      ]
     },
     "execution_count": 27,
     "metadata": {},
     "output_type": "execute_result"
    }
   ],
   "source": [
    "len(titles)\n"
   ]
  },
  {
   "cell_type": "code",
   "execution_count": 28,
   "id": "5c7d6253-174f-4651-a28c-562ed34cd07b",
   "metadata": {},
   "outputs": [],
   "source": [
    "import pandas as pd"
   ]
  },
  {
   "cell_type": "code",
   "execution_count": 68,
   "id": "a05ec2fe-8cf5-40fb-b7b2-1abcffe1e18d",
   "metadata": {},
   "outputs": [],
   "source": [
    "data=pd.DataFrame({'titles':titles,'images':images,'rating':rating,'prices':prices})"
   ]
  },
  {
   "cell_type": "code",
   "execution_count": 69,
   "id": "b9bf5535-834b-4078-937e-c7088890495a",
   "metadata": {},
   "outputs": [
    {
     "data": {
      "text/html": [
       "<div>\n",
       "<style scoped>\n",
       "    .dataframe tbody tr th:only-of-type {\n",
       "        vertical-align: middle;\n",
       "    }\n",
       "\n",
       "    .dataframe tbody tr th {\n",
       "        vertical-align: top;\n",
       "    }\n",
       "\n",
       "    .dataframe thead th {\n",
       "        text-align: right;\n",
       "    }\n",
       "</style>\n",
       "<table border=\"1\" class=\"dataframe\">\n",
       "  <thead>\n",
       "    <tr style=\"text-align: right;\">\n",
       "      <th></th>\n",
       "      <th>titles</th>\n",
       "      <th>images</th>\n",
       "      <th>rating</th>\n",
       "      <th>prices</th>\n",
       "    </tr>\n",
       "  </thead>\n",
       "  <tbody>\n",
       "    <tr>\n",
       "      <th>0</th>\n",
       "      <td>HP 15, 12th Gen Intel Core i5-1235U, 16GB DDR4...</td>\n",
       "      <td>https://m.media-amazon.com/images/I/71p8u7Upw1...</td>\n",
       "      <td>3.8 out of 5 stars</td>\n",
       "      <td>49,990</td>\n",
       "    </tr>\n",
       "    <tr>\n",
       "      <th>1</th>\n",
       "      <td>HP 15, 13th Gen Intel Core i5-1334U, 16GB DDR4...</td>\n",
       "      <td>https://m.media-amazon.com/images/I/71Zi-z2FtC...</td>\n",
       "      <td>3.8 out of 5 stars</td>\n",
       "      <td>54,880</td>\n",
       "    </tr>\n",
       "    <tr>\n",
       "      <th>2</th>\n",
       "      <td>(Refurbished) Lenovo ThinkPad 8th Gen Intel Co...</td>\n",
       "      <td>https://m.media-amazon.com/images/I/611AaVzaCQ...</td>\n",
       "      <td>3.8 out of 5 stars</td>\n",
       "      <td>18,699</td>\n",
       "    </tr>\n",
       "    <tr>\n",
       "      <th>3</th>\n",
       "      <td>Acer Aspire Lite AMD Ryzen 5-5625U Premium Thi...</td>\n",
       "      <td>https://m.media-amazon.com/images/I/61fDHkQ6Mq...</td>\n",
       "      <td>3.8 out of 5 stars</td>\n",
       "      <td>33,490</td>\n",
       "    </tr>\n",
       "    <tr>\n",
       "      <th>4</th>\n",
       "      <td>HP Laptop 255 G9 AMD Ryzen 3 3250U Dual Core -...</td>\n",
       "      <td>https://m.media-amazon.com/images/I/71cbbGm02p...</td>\n",
       "      <td>3.8 out of 5 stars</td>\n",
       "      <td>25,000</td>\n",
       "    </tr>\n",
       "    <tr>\n",
       "      <th>...</th>\n",
       "      <td>...</td>\n",
       "      <td>...</td>\n",
       "      <td>...</td>\n",
       "      <td>...</td>\n",
       "    </tr>\n",
       "    <tr>\n",
       "      <th>435</th>\n",
       "      <td>Acer Aspire Lite 13th Gen Intel Core i3-1305U ...</td>\n",
       "      <td>https://m.media-amazon.com/images/I/61fDHkQ6Mq...</td>\n",
       "      <td>3.8 out of 5 stars</td>\n",
       "      <td>31,990</td>\n",
       "    </tr>\n",
       "    <tr>\n",
       "      <th>436</th>\n",
       "      <td>HP 15s, 12th Gen Intel Core i3-1215U, 8GB DDR4...</td>\n",
       "      <td>https://m.media-amazon.com/images/I/71k9Z+agn8...</td>\n",
       "      <td>3.8 out of 5 stars</td>\n",
       "      <td>35,990</td>\n",
       "    </tr>\n",
       "    <tr>\n",
       "      <th>437</th>\n",
       "      <td>ASUS Vivobook 16\" FHD+ (1920 X 1200), 60Hz 300...</td>\n",
       "      <td>https://m.media-amazon.com/images/I/61fsBFww9D...</td>\n",
       "      <td>3.8 out of 5 stars</td>\n",
       "      <td>51,990</td>\n",
       "    </tr>\n",
       "    <tr>\n",
       "      <th>438</th>\n",
       "      <td>Lenovo IdeaPad Slim 5 12th Gen Intel Core i5 1...</td>\n",
       "      <td>https://m.media-amazon.com/images/I/612ealjuNb...</td>\n",
       "      <td>3.8 out of 5 stars</td>\n",
       "      <td>59,990</td>\n",
       "    </tr>\n",
       "    <tr>\n",
       "      <th>439</th>\n",
       "      <td>Lenovo IdeaPad Slim 3 Intel Core i5-13420H 15....</td>\n",
       "      <td>https://m.media-amazon.com/images/I/61RK2zd3-0...</td>\n",
       "      <td>3.8 out of 5 stars</td>\n",
       "      <td>54,490</td>\n",
       "    </tr>\n",
       "  </tbody>\n",
       "</table>\n",
       "<p>440 rows × 4 columns</p>\n",
       "</div>"
      ],
      "text/plain": [
       "                                                titles  \\\n",
       "0    HP 15, 12th Gen Intel Core i5-1235U, 16GB DDR4...   \n",
       "1    HP 15, 13th Gen Intel Core i5-1334U, 16GB DDR4...   \n",
       "2    (Refurbished) Lenovo ThinkPad 8th Gen Intel Co...   \n",
       "3    Acer Aspire Lite AMD Ryzen 5-5625U Premium Thi...   \n",
       "4    HP Laptop 255 G9 AMD Ryzen 3 3250U Dual Core -...   \n",
       "..                                                 ...   \n",
       "435  Acer Aspire Lite 13th Gen Intel Core i3-1305U ...   \n",
       "436  HP 15s, 12th Gen Intel Core i3-1215U, 8GB DDR4...   \n",
       "437  ASUS Vivobook 16\" FHD+ (1920 X 1200), 60Hz 300...   \n",
       "438  Lenovo IdeaPad Slim 5 12th Gen Intel Core i5 1...   \n",
       "439  Lenovo IdeaPad Slim 3 Intel Core i5-13420H 15....   \n",
       "\n",
       "                                                images              rating  \\\n",
       "0    https://m.media-amazon.com/images/I/71p8u7Upw1...  3.8 out of 5 stars   \n",
       "1    https://m.media-amazon.com/images/I/71Zi-z2FtC...  3.8 out of 5 stars   \n",
       "2    https://m.media-amazon.com/images/I/611AaVzaCQ...  3.8 out of 5 stars   \n",
       "3    https://m.media-amazon.com/images/I/61fDHkQ6Mq...  3.8 out of 5 stars   \n",
       "4    https://m.media-amazon.com/images/I/71cbbGm02p...  3.8 out of 5 stars   \n",
       "..                                                 ...                 ...   \n",
       "435  https://m.media-amazon.com/images/I/61fDHkQ6Mq...  3.8 out of 5 stars   \n",
       "436  https://m.media-amazon.com/images/I/71k9Z+agn8...  3.8 out of 5 stars   \n",
       "437  https://m.media-amazon.com/images/I/61fsBFww9D...  3.8 out of 5 stars   \n",
       "438  https://m.media-amazon.com/images/I/612ealjuNb...  3.8 out of 5 stars   \n",
       "439  https://m.media-amazon.com/images/I/61RK2zd3-0...  3.8 out of 5 stars   \n",
       "\n",
       "     prices  \n",
       "0    49,990  \n",
       "1    54,880  \n",
       "2    18,699  \n",
       "3    33,490  \n",
       "4    25,000  \n",
       "..      ...  \n",
       "435  31,990  \n",
       "436  35,990  \n",
       "437  51,990  \n",
       "438  59,990  \n",
       "439  54,490  \n",
       "\n",
       "[440 rows x 4 columns]"
      ]
     },
     "execution_count": 69,
     "metadata": {},
     "output_type": "execute_result"
    }
   ],
   "source": [
    "data"
   ]
  },
  {
   "cell_type": "markdown",
   "id": "ebb51c7e-bc96-4bed-9fc4-d0ec48247006",
   "metadata": {},
   "source": [
    "### converting dataset into csv"
   ]
  },
  {
   "cell_type": "code",
   "execution_count": 59,
   "id": "b1c62715-4749-4133-9c18-dbdb615e4502",
   "metadata": {},
   "outputs": [
    {
     "data": {
      "text/html": [
       "<div>\n",
       "<style scoped>\n",
       "    .dataframe tbody tr th:only-of-type {\n",
       "        vertical-align: middle;\n",
       "    }\n",
       "\n",
       "    .dataframe tbody tr th {\n",
       "        vertical-align: top;\n",
       "    }\n",
       "\n",
       "    .dataframe thead th {\n",
       "        text-align: right;\n",
       "    }\n",
       "</style>\n",
       "<table border=\"1\" class=\"dataframe\">\n",
       "  <thead>\n",
       "    <tr style=\"text-align: right;\">\n",
       "      <th></th>\n",
       "      <th>prices</th>\n",
       "    </tr>\n",
       "  </thead>\n",
       "  <tbody>\n",
       "    <tr>\n",
       "      <th>count</th>\n",
       "      <td>440.000000</td>\n",
       "    </tr>\n",
       "    <tr>\n",
       "      <th>mean</th>\n",
       "      <td>40573.136364</td>\n",
       "    </tr>\n",
       "    <tr>\n",
       "      <th>std</th>\n",
       "      <td>14221.471823</td>\n",
       "    </tr>\n",
       "    <tr>\n",
       "      <th>min</th>\n",
       "      <td>18699.000000</td>\n",
       "    </tr>\n",
       "    <tr>\n",
       "      <th>25%</th>\n",
       "      <td>29850.000000</td>\n",
       "    </tr>\n",
       "    <tr>\n",
       "      <th>50%</th>\n",
       "      <td>36245.000000</td>\n",
       "    </tr>\n",
       "    <tr>\n",
       "      <th>75%</th>\n",
       "      <td>54490.000000</td>\n",
       "    </tr>\n",
       "    <tr>\n",
       "      <th>max</th>\n",
       "      <td>63990.000000</td>\n",
       "    </tr>\n",
       "  </tbody>\n",
       "</table>\n",
       "</div>"
      ],
      "text/plain": [
       "             prices\n",
       "count    440.000000\n",
       "mean   40573.136364\n",
       "std    14221.471823\n",
       "min    18699.000000\n",
       "25%    29850.000000\n",
       "50%    36245.000000\n",
       "75%    54490.000000\n",
       "max    63990.000000"
      ]
     },
     "execution_count": 59,
     "metadata": {},
     "output_type": "execute_result"
    }
   ],
   "source": [
    "data.describe()"
   ]
  },
  {
   "cell_type": "code",
   "execution_count": 58,
   "id": "51ac3221-b5fc-4f38-af12-6cbe86bc2837",
   "metadata": {},
   "outputs": [
    {
     "name": "stdout",
     "output_type": "stream",
     "text": [
      "<class 'pandas.core.frame.DataFrame'>\n",
      "RangeIndex: 440 entries, 0 to 439\n",
      "Data columns (total 4 columns):\n",
      " #   Column  Non-Null Count  Dtype \n",
      "---  ------  --------------  ----- \n",
      " 0   titles  440 non-null    object\n",
      " 1   images  440 non-null    object\n",
      " 2   rating  440 non-null    object\n",
      " 3   prices  440 non-null    int64 \n",
      "dtypes: int64(1), object(3)\n",
      "memory usage: 13.9+ KB\n"
     ]
    }
   ],
   "source": [
    "data.info()"
   ]
  },
  {
   "cell_type": "code",
   "execution_count": 60,
   "id": "c57267ab-541d-4ce6-8655-3f6fca5f142f",
   "metadata": {},
   "outputs": [
    {
     "name": "stdout",
     "output_type": "stream",
     "text": [
      "titles    object\n",
      "images    object\n",
      "rating    object\n",
      "prices     int64\n",
      "dtype: object\n"
     ]
    }
   ],
   "source": [
    "print(data.dtypes)\n"
   ]
  },
  {
   "cell_type": "markdown",
   "id": "c8e38178-89f4-482a-814e-1bdae34ddf2b",
   "metadata": {},
   "source": [
    "### less price laptops"
   ]
  },
  {
   "cell_type": "code",
   "execution_count": 61,
   "id": "24941d51-8369-41e6-b141-b51dfc5e50fe",
   "metadata": {},
   "outputs": [
    {
     "data": {
      "text/html": [
       "<div>\n",
       "<style scoped>\n",
       "    .dataframe tbody tr th:only-of-type {\n",
       "        vertical-align: middle;\n",
       "    }\n",
       "\n",
       "    .dataframe tbody tr th {\n",
       "        vertical-align: top;\n",
       "    }\n",
       "\n",
       "    .dataframe thead th {\n",
       "        text-align: right;\n",
       "    }\n",
       "</style>\n",
       "<table border=\"1\" class=\"dataframe\">\n",
       "  <thead>\n",
       "    <tr style=\"text-align: right;\">\n",
       "      <th></th>\n",
       "      <th>titles</th>\n",
       "      <th>images</th>\n",
       "      <th>rating</th>\n",
       "      <th>prices</th>\n",
       "    </tr>\n",
       "  </thead>\n",
       "  <tbody>\n",
       "    <tr>\n",
       "      <th>420</th>\n",
       "      <td>(Refurbished) Lenovo ThinkPad 8th Gen Intel Co...</td>\n",
       "      <td>https://m.media-amazon.com/images/I/611AaVzaCQ...</td>\n",
       "      <td>3.8 out of 5 stars</td>\n",
       "      <td>18699</td>\n",
       "    </tr>\n",
       "    <tr>\n",
       "      <th>376</th>\n",
       "      <td>(Refurbished) Lenovo ThinkPad 8th Gen Intel Co...</td>\n",
       "      <td>https://m.media-amazon.com/images/I/611AaVzaCQ...</td>\n",
       "      <td>3.8 out of 5 stars</td>\n",
       "      <td>18699</td>\n",
       "    </tr>\n",
       "    <tr>\n",
       "      <th>200</th>\n",
       "      <td>(Refurbished) Lenovo ThinkPad 8th Gen Intel Co...</td>\n",
       "      <td>https://m.media-amazon.com/images/I/611AaVzaCQ...</td>\n",
       "      <td>3.8 out of 5 stars</td>\n",
       "      <td>18699</td>\n",
       "    </tr>\n",
       "    <tr>\n",
       "      <th>24</th>\n",
       "      <td>(Refurbished) Lenovo ThinkPad 8th Gen Intel Co...</td>\n",
       "      <td>https://m.media-amazon.com/images/I/611AaVzaCQ...</td>\n",
       "      <td>3.8 out of 5 stars</td>\n",
       "      <td>18699</td>\n",
       "    </tr>\n",
       "    <tr>\n",
       "      <th>156</th>\n",
       "      <td>(Refurbished) Lenovo ThinkPad 8th Gen Intel Co...</td>\n",
       "      <td>https://m.media-amazon.com/images/I/611AaVzaCQ...</td>\n",
       "      <td>3.8 out of 5 stars</td>\n",
       "      <td>18699</td>\n",
       "    </tr>\n",
       "  </tbody>\n",
       "</table>\n",
       "</div>"
      ],
      "text/plain": [
       "                                                titles  \\\n",
       "420  (Refurbished) Lenovo ThinkPad 8th Gen Intel Co...   \n",
       "376  (Refurbished) Lenovo ThinkPad 8th Gen Intel Co...   \n",
       "200  (Refurbished) Lenovo ThinkPad 8th Gen Intel Co...   \n",
       "24   (Refurbished) Lenovo ThinkPad 8th Gen Intel Co...   \n",
       "156  (Refurbished) Lenovo ThinkPad 8th Gen Intel Co...   \n",
       "\n",
       "                                                images              rating  \\\n",
       "420  https://m.media-amazon.com/images/I/611AaVzaCQ...  3.8 out of 5 stars   \n",
       "376  https://m.media-amazon.com/images/I/611AaVzaCQ...  3.8 out of 5 stars   \n",
       "200  https://m.media-amazon.com/images/I/611AaVzaCQ...  3.8 out of 5 stars   \n",
       "24   https://m.media-amazon.com/images/I/611AaVzaCQ...  3.8 out of 5 stars   \n",
       "156  https://m.media-amazon.com/images/I/611AaVzaCQ...  3.8 out of 5 stars   \n",
       "\n",
       "     prices  \n",
       "420   18699  \n",
       "376   18699  \n",
       "200   18699  \n",
       "24    18699  \n",
       "156   18699  "
      ]
     },
     "execution_count": 61,
     "metadata": {},
     "output_type": "execute_result"
    }
   ],
   "source": [
    "data.sort_values('prices').head()\n"
   ]
  },
  {
   "cell_type": "markdown",
   "id": "7f25f351-58b5-48e3-9ad9-36b9a9360573",
   "metadata": {},
   "source": [
    "### High price laptops"
   ]
  },
  {
   "cell_type": "code",
   "execution_count": 62,
   "id": "bf1c07e8-d448-47d0-999f-dc8220c085aa",
   "metadata": {},
   "outputs": [
    {
     "data": {
      "text/html": [
       "<div>\n",
       "<style scoped>\n",
       "    .dataframe tbody tr th:only-of-type {\n",
       "        vertical-align: middle;\n",
       "    }\n",
       "\n",
       "    .dataframe tbody tr th {\n",
       "        vertical-align: top;\n",
       "    }\n",
       "\n",
       "    .dataframe thead th {\n",
       "        text-align: right;\n",
       "    }\n",
       "</style>\n",
       "<table border=\"1\" class=\"dataframe\">\n",
       "  <thead>\n",
       "    <tr style=\"text-align: right;\">\n",
       "      <th></th>\n",
       "      <th>titles</th>\n",
       "      <th>images</th>\n",
       "      <th>rating</th>\n",
       "      <th>prices</th>\n",
       "    </tr>\n",
       "  </thead>\n",
       "  <tbody>\n",
       "    <tr>\n",
       "      <th>297</th>\n",
       "      <td>Lenovo IdeaPad Slim 5 Ryzen 7 7730U (16GB RAM/...</td>\n",
       "      <td>https://m.media-amazon.com/images/I/81PuoXg49E...</td>\n",
       "      <td>3.8 out of 5 stars</td>\n",
       "      <td>63990</td>\n",
       "    </tr>\n",
       "    <tr>\n",
       "      <th>11</th>\n",
       "      <td>Lenovo IdeaPad Slim 5 Ryzen 7 7730U (16GB RAM/...</td>\n",
       "      <td>https://m.media-amazon.com/images/I/81PuoXg49E...</td>\n",
       "      <td>3.8 out of 5 stars</td>\n",
       "      <td>63990</td>\n",
       "    </tr>\n",
       "    <tr>\n",
       "      <th>99</th>\n",
       "      <td>Lenovo IdeaPad Slim 5 Ryzen 7 7730U (16GB RAM/...</td>\n",
       "      <td>https://m.media-amazon.com/images/I/81PuoXg49E...</td>\n",
       "      <td>3.8 out of 5 stars</td>\n",
       "      <td>63990</td>\n",
       "    </tr>\n",
       "    <tr>\n",
       "      <th>187</th>\n",
       "      <td>Lenovo IdeaPad Slim 5 Ryzen 7 7730U (16GB RAM/...</td>\n",
       "      <td>https://m.media-amazon.com/images/I/81PuoXg49E...</td>\n",
       "      <td>3.8 out of 5 stars</td>\n",
       "      <td>63990</td>\n",
       "    </tr>\n",
       "    <tr>\n",
       "      <th>253</th>\n",
       "      <td>Lenovo IdeaPad Slim 5 Ryzen 7 7730U (16GB RAM/...</td>\n",
       "      <td>https://m.media-amazon.com/images/I/81PuoXg49E...</td>\n",
       "      <td>3.8 out of 5 stars</td>\n",
       "      <td>63990</td>\n",
       "    </tr>\n",
       "  </tbody>\n",
       "</table>\n",
       "</div>"
      ],
      "text/plain": [
       "                                                titles  \\\n",
       "297  Lenovo IdeaPad Slim 5 Ryzen 7 7730U (16GB RAM/...   \n",
       "11   Lenovo IdeaPad Slim 5 Ryzen 7 7730U (16GB RAM/...   \n",
       "99   Lenovo IdeaPad Slim 5 Ryzen 7 7730U (16GB RAM/...   \n",
       "187  Lenovo IdeaPad Slim 5 Ryzen 7 7730U (16GB RAM/...   \n",
       "253  Lenovo IdeaPad Slim 5 Ryzen 7 7730U (16GB RAM/...   \n",
       "\n",
       "                                                images              rating  \\\n",
       "297  https://m.media-amazon.com/images/I/81PuoXg49E...  3.8 out of 5 stars   \n",
       "11   https://m.media-amazon.com/images/I/81PuoXg49E...  3.8 out of 5 stars   \n",
       "99   https://m.media-amazon.com/images/I/81PuoXg49E...  3.8 out of 5 stars   \n",
       "187  https://m.media-amazon.com/images/I/81PuoXg49E...  3.8 out of 5 stars   \n",
       "253  https://m.media-amazon.com/images/I/81PuoXg49E...  3.8 out of 5 stars   \n",
       "\n",
       "     prices  \n",
       "297   63990  \n",
       "11    63990  \n",
       "99    63990  \n",
       "187   63990  \n",
       "253   63990  "
      ]
     },
     "execution_count": 62,
     "metadata": {},
     "output_type": "execute_result"
    }
   ],
   "source": [
    "data.sort_values('prices',ascending=False).head()"
   ]
  },
  {
   "cell_type": "code",
   "execution_count": null,
   "id": "6df1b96d-8944-421a-bfa0-5c59c383c8aa",
   "metadata": {},
   "outputs": [],
   "source": [
    "data.to_csv('finallaptop_products.csv')"
   ]
  },
  {
   "cell_type": "code",
   "execution_count": 57,
   "id": "1b43bacc-0d6b-4031-a4d6-3afa9b3534fa",
   "metadata": {},
   "outputs": [],
   "source": [
    "data.to_excel('finallaptop_products.xlsx', index=False)\n"
   ]
  },
  {
   "cell_type": "code",
   "execution_count": null,
   "id": "961a013a-2d8f-4b19-aa90-a04bf69036a3",
   "metadata": {},
   "outputs": [],
   "source": []
  }
 ],
 "metadata": {
  "kernelspec": {
   "display_name": "Python 3 (ipykernel)",
   "language": "python",
   "name": "python3"
  },
  "language_info": {
   "codemirror_mode": {
    "name": "ipython",
    "version": 3
   },
   "file_extension": ".py",
   "mimetype": "text/x-python",
   "name": "python",
   "nbconvert_exporter": "python",
   "pygments_lexer": "ipython3",
   "version": "3.12.7"
  }
 },
 "nbformat": 4,
 "nbformat_minor": 5
}
